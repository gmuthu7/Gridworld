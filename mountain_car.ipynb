{
 "cells": [
  {
   "cell_type": "markdown",
   "source": [
    "<h1> Advantage Actor Critic on continuous actions </h1>\n"
   ],
   "metadata": {
    "collapsed": false
   },
   "id": "13f55af02d21206a"
  },
  {
   "cell_type": "markdown",
   "source": [
    "<h3> Import dependencies </h3>"
   ],
   "metadata": {
    "collapsed": false
   },
   "id": "e745491f8f1a5f6a"
  },
  {
   "cell_type": "code",
   "execution_count": 1,
   "id": "initial_id",
   "metadata": {
    "collapsed": true,
    "ExecuteTime": {
     "end_time": "2023-09-25T17:36:59.850724Z",
     "start_time": "2023-09-25T17:36:58.394594Z"
    }
   },
   "outputs": [
    {
     "data": {
      "text/plain": "<torch.autograd.grad_mode.set_grad_enabled at 0x14812f0d0>"
     },
     "execution_count": 1,
     "metadata": {},
     "output_type": "execute_result"
    }
   ],
   "source": [
    "import copy\n",
    "from typing import List\n",
    "\n",
    "import numpy as np\n",
    "import matplotlib.pyplot as plt\n",
    "import gymnasium\n",
    "from tqdm import tqdm\n",
    "from matplotlib.axes import Axes\n",
    "from matplotlib.figure import Figure\n",
    "import torch\n",
    "from torch import nn\n",
    "import cloudpickle\n",
    "torch.set_grad_enabled(True) "
   ]
  },
  {
   "cell_type": "markdown",
   "source": [
    "<h3> Implementation of A2C </h3>"
   ],
   "metadata": {
    "collapsed": false
   },
   "id": "f90f23ad56de23c4"
  },
  {
   "cell_type": "code",
   "execution_count": 6,
   "outputs": [],
   "source": [
    "class ActorCritic(nn.Module):\n",
    "    def __init__(self, *args, **kwargs):\n",
    "        super().__init__(*args, **kwargs)\n",
    "        self.critic = nn.Sequential(nn.Linear(2,128), nn.Dropout(),\n",
    "                  nn.ReLU(),\n",
    "                  nn.Linear(128,1))\n",
    "        self.actor = nn.Sequential(nn.Linear(2,128), nn.Dropout(),\n",
    "                  nn.ReLU(),\n",
    "                  nn.Linear(128,2))\n",
    "    \n",
    "    def forward(self,state):\n",
    "        v = self.critic(state)\n",
    "        mu,sigma = self.actor(state)\n",
    "        #sigma = torch.clamp(sigma,min=-2,max=20)\n",
    "        sigma = torch.exp(sigma)\n",
    "        return v,mu,sigma\n",
    "\n",
    "    def load(self):\n",
    "        with (open(\"./models/actor.pkl\",\"rb\") as f1, \n",
    "              open(\"./models/critic.pkl\",\"rb\") as f2):\n",
    "            self.actor = cloudpickle.load(f1)\n",
    "            self.critic = cloudpickle.load(f2)\n",
    "    \n",
    "    def dump(self):\n",
    "        with (open(\"./models/actor.pkl\",\"wb\") as f1, \n",
    "              open(\"./models/critic.pkl\",\"wb\") as f2):\n",
    "            cloudpickle.dump(self.actor,f1)\n",
    "            cloudpickle.dump(self.critic,f2)"
   ],
   "metadata": {
    "collapsed": false,
    "ExecuteTime": {
     "start_time": "2023-09-25T13:07:46.261216Z"
    }
   },
   "id": "748dcd157f21d3d6"
  },
  {
   "cell_type": "code",
   "execution_count": null,
   "outputs": [],
   "source": [
    "def init_figs_axes():\n",
    "    \n",
    "    fig,(ax1,ax2) = plt.subplots(1,2)\n",
    "    \n",
    "    fig.tight_layout(pad=5.0)\n",
    "    fig.set_figwidth(20)\n",
    "    fig.set_figheight(8)\n",
    "    \n",
    "    ax1.set_title(\"Mean Return\")\n",
    "    ax1.set_xlabel(\"Episode\")\n",
    "    ax1.set_ylabel(\"Mean Return\")\n",
    "    \n",
    "    ax2.set_title(\"Mean Episode Length\")\n",
    "    ax2.set_xlabel(\"Episode\")\n",
    "    ax2.set_ylabel(\"Mean Episode Length\")\n",
    "    \n",
    "    return fig,ax1,ax2"
   ],
   "metadata": {
    "collapsed": false
   },
   "id": "2b3cef4ef2e33198"
  },
  {
   "cell_type": "code",
   "execution_count": null,
   "outputs": [],
   "source": [
    "def plot_graphs(fig:Figure,ax1:Axes,ax2:Axes,y1,y2,y3,y4):\n",
    "\n",
    "    ax1.cla()\n",
    "    ax2.cla()\n",
    "    \n",
    "    ax1.plot(y1)\n",
    "    ax1.plot(y2)\n",
    "    ax2.plot(y3)\n",
    "    ax2.plot(y4)\n",
    "    \n",
    "    display.display(fig)\n",
    "    display.clear_output(wait=True)"
   ],
   "metadata": {
    "collapsed": false
   },
   "id": "c790d250669a9b0"
  },
  {
   "cell_type": "code",
   "execution_count": null,
   "outputs": [],
   "source": [
    "def compute_returns(rewards:List,gamma:float):\n",
    "    \n",
    "    returns = []\n",
    "    ret = 0.\n",
    "    \n",
    "    for reward in reversed(rewards):\n",
    "        ret = reward + gamma * ret\n",
    "        returns.insert(0,ret)\n",
    "        \n",
    "    return returns"
   ],
   "metadata": {
    "collapsed": false
   },
   "id": "a89d585d5bf0f95"
  },
  {
   "cell_type": "code",
   "execution_count": 30,
   "outputs": [],
   "source": [
    "def critic_loss(returns:List,values:List,critic_loss_fn):\n",
    "    \n",
    "    returns = torch.tensor(returns).detach()\n",
    "    values = torch.tensor(values)\n",
    "    \n",
    "    loss = critic_loss_fn(returns,values)\n",
    "    \n",
    "    return loss"
   ],
   "metadata": {
    "collapsed": false,
    "ExecuteTime": {
     "end_time": "2023-09-25T15:11:24.917470Z",
     "start_time": "2023-09-25T15:11:24.913136Z"
    }
   },
   "id": "65167e35da427f29"
  },
  {
   "cell_type": "code",
   "execution_count": 31,
   "outputs": [],
   "source": [
    "def actor_loss(returns:List,values:List,log_probs:List):\n",
    "    \n",
    "    returns = torch.tensor(returns).detach()\n",
    "    values = torch.tensor(values).detach()\n",
    "    log_probs = torch.tensor(log_probs)\n",
    "    \n",
    "    loss = - ((returns - values) * log_probs).mean()\n",
    "    \n",
    "    return loss"
   ],
   "metadata": {
    "collapsed": false,
    "ExecuteTime": {
     "end_time": "2023-09-25T15:11:25.157086Z",
     "start_time": "2023-09-25T15:11:25.148692Z"
    }
   },
   "id": "84246a06fcf6eb3d"
  },
  {
   "cell_type": "code",
   "execution_count": null,
   "outputs": [],
   "source": [
    "def update_agent(a2c:ActorCritic,rewards:List,values:List,log_probs:List,gamma:float,optimiser:torch.optim.Optimizer,critic_loss_fn):\n",
    "    \n",
    "    a2c.train()\n",
    "    \n",
    "    returns = compute_returns(rewards,gamma)\n",
    "    \n",
    "    critic_loss = critic_loss(returns,values,critic_loss_fn)\n",
    "    actor_loss = actor_loss(returns,values,log_probs)\n",
    "    \n",
    "    loss = actor_loss + critic_loss\n",
    "    \n",
    "    optimiser.zero_grad()\n",
    "    \n",
    "    loss.backward()\n",
    "    \n",
    "    optimiser.step()"
   ],
   "metadata": {
    "collapsed": false
   },
   "id": "9d34ab76e2de47a2"
  },
  {
   "cell_type": "code",
   "execution_count": null,
   "outputs": [],
   "source": [
    "def train_one_episode(env:gymnasium.Env,seed:int,optimiser:torch.optim.Optimizer,a2c:ActorCritic,gamma:float,critic_loss_fn):\n",
    "    \n",
    "    log_probs = []\n",
    "    values = []\n",
    "    rewards = []\n",
    "    \n",
    "    state,*_ = env.reset(seed=seed)\n",
    "    state = torch.FloatTensor(state)\n",
    "    \n",
    "    while True:\n",
    "        \n",
    "        value,mu,sigma = a2c(state)\n",
    "        \n",
    "        dist = torch.distributions.Normal(mu,sigma)\n",
    "        \n",
    "        action = dist.sample()\n",
    "        \n",
    "        #action = torch.clamp(action,env.action_space.low[0],env.action_space.high[0])\n",
    "                \n",
    "        next_state,reward,terminated,truncated,*_ = env.step(action)\n",
    "        \n",
    "        action = torch.FloatTensor(action)\n",
    "        next_state = torch.FloatTensor(next_state)\n",
    "        \n",
    "        log_prob = dist.log_prob(action)\n",
    "        \n",
    "        log_probs.append(log_prob)\n",
    "        rewards.append(reward)\n",
    "        values.append(value)\n",
    "        \n",
    "        state = next_state\n",
    "        \n",
    "        if terminated or truncated:\n",
    "            break\n",
    "    \n",
    "    update_agent(a2c,rewards,values,log_probs,gamma,optimiser,critic_loss_fn)\n",
    "    \n",
    "    return rewards\n"
   ],
   "metadata": {
    "collapsed": false
   },
   "id": "5665fb0160f483ff"
  },
  {
   "cell_type": "code",
   "execution_count": null,
   "outputs": [],
   "source": [
    "def evaluate_one_episode(a2c:ActorCritic,env:gymnasium.Env,seed:int):\n",
    "    \n",
    "    state,*_ = env.reset(seed=seed)\n",
    "    \n",
    "    rewards = []\n",
    "    \n",
    "    while True:\n",
    "        \n",
    "        value,mu,sigma = a2c(state)\n",
    "                \n",
    "        action = mu.item()\n",
    "                \n",
    "        next_state,reward,terminated,truncated,*_ = env.step(action)\n",
    "        \n",
    "        rewards.append(reward)\n",
    "    \n",
    "        if terminated or terminated:\n",
    "            break\n",
    "            \n",
    "        state = next_state\n",
    "    \n",
    "    return rewards"
   ],
   "metadata": {
    "collapsed": false
   },
   "id": "7bc3aeeffd1635d5"
  },
  {
   "cell_type": "code",
   "execution_count": 5,
   "outputs": [
    {
     "ename": "KeyboardInterrupt",
     "evalue": "",
     "output_type": "error",
     "traceback": [
      "\u001B[0;31m---------------------------------------------------------------------------\u001B[0m",
      "\u001B[0;31mKeyboardInterrupt\u001B[0m                         Traceback (most recent call last)",
      "Cell \u001B[0;32mIn[5], line 37\u001B[0m\n\u001B[1;32m     35\u001B[0m updates\u001B[38;5;241m+\u001B[39m\u001B[38;5;241m=\u001B[39m\u001B[38;5;241m1\u001B[39m\n\u001B[1;32m     36\u001B[0m rewards\u001B[38;5;241m.\u001B[39mappend(reward)\n\u001B[0;32m---> 37\u001B[0m reward\u001B[38;5;241m-\u001B[39m\u001B[38;5;241m=\u001B[39m \u001B[43mnp\u001B[49m\u001B[38;5;241;43m.\u001B[39;49m\u001B[43mmean\u001B[49m\u001B[43m(\u001B[49m\u001B[43mrewards\u001B[49m\u001B[43m)\u001B[49m\n\u001B[1;32m     38\u001B[0m reward\u001B[38;5;241m/\u001B[39m\u001B[38;5;241m=\u001B[39m (np\u001B[38;5;241m.\u001B[39mstd(rewards)\u001B[38;5;241m+\u001B[39m\u001B[38;5;241m1e-3\u001B[39m)\n\u001B[1;32m     39\u001B[0m next_state \u001B[38;5;241m=\u001B[39m np\u001B[38;5;241m.\u001B[39msqueeze(scaler\u001B[38;5;241m.\u001B[39mtransform([next_state]))\n",
      "File \u001B[0;32m~/Library/Caches/pypoetry/virtualenvs/gridworld-1-zk00QJ-py3.11/lib/python3.11/site-packages/numpy/core/fromnumeric.py:3504\u001B[0m, in \u001B[0;36mmean\u001B[0;34m(a, axis, dtype, out, keepdims, where)\u001B[0m\n\u001B[1;32m   3501\u001B[0m     \u001B[38;5;28;01melse\u001B[39;00m:\n\u001B[1;32m   3502\u001B[0m         \u001B[38;5;28;01mreturn\u001B[39;00m mean(axis\u001B[38;5;241m=\u001B[39maxis, dtype\u001B[38;5;241m=\u001B[39mdtype, out\u001B[38;5;241m=\u001B[39mout, \u001B[38;5;241m*\u001B[39m\u001B[38;5;241m*\u001B[39mkwargs)\n\u001B[0;32m-> 3504\u001B[0m \u001B[38;5;28;01mreturn\u001B[39;00m \u001B[43m_methods\u001B[49m\u001B[38;5;241;43m.\u001B[39;49m\u001B[43m_mean\u001B[49m\u001B[43m(\u001B[49m\u001B[43ma\u001B[49m\u001B[43m,\u001B[49m\u001B[43m \u001B[49m\u001B[43maxis\u001B[49m\u001B[38;5;241;43m=\u001B[39;49m\u001B[43maxis\u001B[49m\u001B[43m,\u001B[49m\u001B[43m \u001B[49m\u001B[43mdtype\u001B[49m\u001B[38;5;241;43m=\u001B[39;49m\u001B[43mdtype\u001B[49m\u001B[43m,\u001B[49m\n\u001B[1;32m   3505\u001B[0m \u001B[43m                      \u001B[49m\u001B[43mout\u001B[49m\u001B[38;5;241;43m=\u001B[39;49m\u001B[43mout\u001B[49m\u001B[43m,\u001B[49m\u001B[43m \u001B[49m\u001B[38;5;241;43m*\u001B[39;49m\u001B[38;5;241;43m*\u001B[39;49m\u001B[43mkwargs\u001B[49m\u001B[43m)\u001B[49m\n",
      "File \u001B[0;32m~/Library/Caches/pypoetry/virtualenvs/gridworld-1-zk00QJ-py3.11/lib/python3.11/site-packages/numpy/core/_methods.py:102\u001B[0m, in \u001B[0;36m_mean\u001B[0;34m(a, axis, dtype, out, keepdims, where)\u001B[0m\n\u001B[1;32m    101\u001B[0m \u001B[38;5;28;01mdef\u001B[39;00m \u001B[38;5;21m_mean\u001B[39m(a, axis\u001B[38;5;241m=\u001B[39m\u001B[38;5;28;01mNone\u001B[39;00m, dtype\u001B[38;5;241m=\u001B[39m\u001B[38;5;28;01mNone\u001B[39;00m, out\u001B[38;5;241m=\u001B[39m\u001B[38;5;28;01mNone\u001B[39;00m, keepdims\u001B[38;5;241m=\u001B[39m\u001B[38;5;28;01mFalse\u001B[39;00m, \u001B[38;5;241m*\u001B[39m, where\u001B[38;5;241m=\u001B[39m\u001B[38;5;28;01mTrue\u001B[39;00m):\n\u001B[0;32m--> 102\u001B[0m     arr \u001B[38;5;241m=\u001B[39m asanyarray(a)\n\u001B[1;32m    104\u001B[0m     is_float16_result \u001B[38;5;241m=\u001B[39m \u001B[38;5;28;01mFalse\u001B[39;00m\n\u001B[1;32m    106\u001B[0m     rcount \u001B[38;5;241m=\u001B[39m _count_reduce_items(arr, axis, keepdims\u001B[38;5;241m=\u001B[39mkeepdims, where\u001B[38;5;241m=\u001B[39mwhere)\n",
      "\u001B[0;31mKeyboardInterrupt\u001B[0m: "
     ]
    }
   ],
   "source": [
    "NUM_EPISODES = 1\n",
    "ALPHA = 0.1\n",
    "GAMMA = 1\n",
    "SEED = 10\n",
    "ROLLING_AVERAGE_SIZE = 25\n",
    "\n",
    "env = gymnasium.make(\"MountainCarContinuous-v0\")\n",
    "loss = nn.MSELoss()\n",
    "a2c = ActorCritic()\n",
    "optimiser = torch.optim.AdamW(a2c.parameters(),lr=ALPHA)\n",
    "fig,ax1,ax2 = init_figs_axes()\n",
    "\n",
    "train_returns = []\n",
    "train_ep_lens = []\n",
    "test_returns = []\n",
    "test_ep_lens = []\n",
    "\n",
    "for j in range(NUM_EPISODES):\n",
    "  \n",
    "  ret1 = train_one_episode(env,SEED,optimiser,a2c,GAMMA,loss)\n",
    "  \n",
    "  ret2 = evaluate_one_episode(a2c,env,SEED+1)\n",
    "  \n",
    "  train_returns.append(ret1)\n",
    "  test_returns.append(ret2)\n",
    "  train_ep_lens.append(ep_len1)\n",
    "  test_ep_lens.append(ep_len2)\n",
    "  \n",
    "  \n",
    "        "
   ],
   "metadata": {
    "collapsed": false,
    "ExecuteTime": {
     "end_time": "2023-09-21T12:33:16.744472Z",
     "start_time": "2023-09-21T12:32:45.831615Z"
    }
   },
   "id": "c0f9081d0cf83eb7"
  },
  {
   "cell_type": "code",
   "execution_count": null,
   "outputs": [],
   "source": [
    "fig:Figure\n",
    "ax1:Axes\n",
    "ax2:Axes\n",
    "ax3:Axes\n",
    "ax4:Axes\n",
    "ax5:Axes\n",
    "ax6:Axes\n",
    "fig,((ax1,ax2),(ax3,ax4),(ax5,ax6),(ax7,ax8)) = plt.subplots(4,2)\n",
    "fig.set_figwidth(20)\n",
    "fig.set_figheight(20)\n",
    "fig.tight_layout(pad=5.0)\n",
    "ax1.plot(returns[:j])\n",
    "ax1.set_ylabel(f\"Mean return {NUM_TRIALS} trials\")\n",
    "ax1.set_xlabel(\"Episode\")\n",
    "ax1.set_title(\"Mean Return\")\n",
    "ax2.plot(ep_lens[:j])\n",
    "ax2.set_ylabel(f\"Mean episode length {NUM_TRIALS} trials\")\n",
    "ax2.set_xlabel(\"Episode\")\n",
    "ax2.set_title(\"Mean Episode Length\")\n",
    "ax3.plot(grads[0])\n",
    "ax3.set_ylabel(f\"Grad Norm\")\n",
    "ax3.set_xlabel(\"Grad Index\")\n",
    "ax3.set_title(\"Critic Grad Norm\")\n",
    "ax4.plot(losses[0])\n",
    "ax4.set_ylabel(f\"Loss\")\n",
    "ax4.set_xlabel(\"Loss Index\")\n",
    "ax4.set_title(\"Critic Loss\")\n",
    "ax5.plot(grads[1])\n",
    "ax5.set_ylabel(f\"Grad Norm\")\n",
    "ax5.set_xlabel(\"Grad Index\")\n",
    "ax5.set_title(\"Actor Grad Norm\")\n",
    "ax6.plot(losses[1])\n",
    "ax6.set_ylabel(f\"Loss\")\n",
    "ax6.set_xlabel(\"Loss Index\")\n",
    "ax6.set_title(\"Actor Loss\");\n",
    "ax7.plot(entropies)\n",
    "ax7.set_ylabel(f\"Entropy\")\n",
    "ax7.set_xlabel(\"Index\")\n",
    "ax7.set_title(\"Entropy Loss\");\n",
    "ax8.plot(rewards)\n",
    "ax8.set_ylabel(f\"Rewards\")\n",
    "ax8.set_xlabel(\"Index\")\n",
    "ax8.set_title(\"Rewards\");"
   ],
   "metadata": {
    "collapsed": false,
    "ExecuteTime": {
     "start_time": "2023-09-21T12:33:16.745383Z"
    }
   },
   "id": "8ec3163f43658331"
  },
  {
   "cell_type": "markdown",
   "source": [
    "<h3> Evaluate in human render mode </h3>"
   ],
   "metadata": {
    "collapsed": false
   },
   "id": "1b39d92e97101cb3"
  },
  {
   "cell_type": "code",
   "execution_count": null,
   "outputs": [],
   "source": [
    "a2c = ActorCritic()\n",
    "a2c.load()\n",
    "env = gymnasium.make(\"MountainCarContinuous-v0\",render_mode=\"human\")\n",
    "for _ in range(10):\n",
    "    evaluate_one_episode(a2c,env,_+1)"
   ],
   "metadata": {
    "collapsed": false,
    "ExecuteTime": {
     "start_time": "2023-09-21T12:33:16.751098Z"
    }
   },
   "id": "5c9a68065b248880"
  },
  {
   "cell_type": "code",
   "execution_count": 24,
   "outputs": [
    {
     "ename": "KeyboardInterrupt",
     "evalue": "",
     "output_type": "error",
     "traceback": [
      "\u001B[0;31m---------------------------------------------------------------------------\u001B[0m",
      "\u001B[0;31mKeyboardInterrupt\u001B[0m                         Traceback (most recent call last)",
      "Cell \u001B[0;32mIn[24], line 18\u001B[0m\n\u001B[1;32m     16\u001B[0m     display\u001B[38;5;241m.\u001B[39mdisplay(fig)\n\u001B[1;32m     17\u001B[0m     display\u001B[38;5;241m.\u001B[39mclear_output(wait\u001B[38;5;241m=\u001B[39m\u001B[38;5;28;01mTrue\u001B[39;00m)\n\u001B[0;32m---> 18\u001B[0m     \u001B[43mtime\u001B[49m\u001B[38;5;241;43m.\u001B[39;49m\u001B[43msleep\u001B[49m\u001B[43m(\u001B[49m\u001B[38;5;241;43m1\u001B[39;49m\u001B[43m)\u001B[49m\n\u001B[1;32m     19\u001B[0m \u001B[38;5;28;01mexcept\u001B[39;00m \u001B[38;5;167;01mException\u001B[39;00m:\n\u001B[1;32m     20\u001B[0m     \u001B[38;5;28;01mbreak\u001B[39;00m\n",
      "\u001B[0;31mKeyboardInterrupt\u001B[0m: "
     ]
    },
    {
     "data": {
      "text/plain": "<Figure size 640x480 with 1 Axes>",
      "image/png": "[encoded data removed]"
     },
     "metadata": {},
     "output_type": "display_data"
    }
   ],
   "source": [
    "import matplotlib.pylab as plt\n",
    "import numpy as np\n",
    "import time\n",
    "from IPython import display\n",
    "%matplotlib inline\n",
    "\n",
    "y = []\n",
    "fig,ax = plt.subplots()\n",
    "for i in range(100):\n",
    "    try:\n",
    "        print(\"At iter \",i)\n",
    "        x = np.arange(0,i+1)\n",
    "        y.append(x[-1]**2)\n",
    "        ax.cla()\n",
    "        ax.plot(x,y)\n",
    "        display.display(fig)\n",
    "        display.clear_output(wait=True)\n",
    "        time.sleep(1)\n",
    "    except Exception:\n",
    "        break"
   ],
   "metadata": {
    "collapsed": false
   },
   "id": "4e300aaf2ed574e5"
  },
  {
   "cell_type": "code",
   "execution_count": null,
   "outputs": [],
   "source": [],
   "metadata": {
    "collapsed": false
   },
   "id": "2a21c20746dd7a5e"
  }
 ],
 "metadata": {
  "kernelspec": {
   "display_name": "Python 3",
   "language": "python",
   "name": "python3"
  },
  "language_info": {
   "codemirror_mode": {
    "name": "ipython",
    "version": 2
   },
   "file_extension": ".py",
   "mimetype": "text/x-python",
   "name": "python",
   "nbconvert_exporter": "python",
   "pygments_lexer": "ipython2",
   "version": "2.7.6"
  }
 },
 "nbformat": 4,
 "nbformat_minor": 5
}
