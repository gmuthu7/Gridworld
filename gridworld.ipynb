{
 "cells": [
  {
   "cell_type": "code",
   "execution_count": 90,
   "id": "initial_id",
   "metadata": {
    "collapsed": true,
    "ExecuteTime": {
     "end_time": "2023-09-15T11:20:37.095231Z",
     "start_time": "2023-09-15T11:20:37.080178Z"
    }
   },
   "outputs": [],
   "source": [
    "import numpy as np\n",
    "import matplotlib.pyplot as plt\n",
    "from gymnasium import spaces\n",
    "from tqdm import tqdm\n",
    "from matplotlib.axes import Axes\n",
    "from matplotlib.figure import Figure"
   ]
  },
  {
   "cell_type": "markdown",
   "source": [
    "<h1> How convergence to mean is affected by LR, number of samples and most importantly variance of a Gaussian sampled variable?</h1>"
   ],
   "metadata": {
    "collapsed": false
   },
   "id": "3625e63ff64c2c64"
  },
  {
   "cell_type": "markdown",
   "source": [
    "<h4>Note that the theta at any time t is an estimate of the mean E[y].</h4>"
   ],
   "metadata": {
    "collapsed": false
   },
   "id": "3af38e6c086125bf"
  },
  {
   "cell_type": "code",
   "execution_count": null,
   "outputs": [],
   "source": [
    "fig: Figure = plt.figure()\n",
    "ax: Axes = fig.subplots()\n",
    "num_points = 10000\n",
    "y = np.random.randn(num_points) * 0.1\n",
    "x = np.arange(num_points)\n",
    "theta_plt = []\n",
    "theta = 10\n",
    "for i in range(num_points):\n",
    "    theta = theta + 0.1 * (y[i] - theta)\n",
    "    theta_plt.append(theta)\n",
    "ax.plot(x, theta_plt)"
   ],
   "metadata": {
    "collapsed": false
   },
   "id": "276407a01fbaeae5"
  },
  {
   "cell_type": "markdown",
   "source": [
    "<h1> Cliff Environment </h1>"
   ],
   "metadata": {
    "collapsed": false
   },
   "id": "2e6e59c663b76ec6"
  },
  {
   "cell_type": "code",
   "execution_count": null,
   "outputs": [],
   "source": [
    "\n",
    "from gymnasium.wrappers.compatibility import LegacyEnv\n",
    "\n",
    "\n",
    "class CliffEnv(LegacyEnv):\n",
    "    def __init__(self):\n",
    "        self.height = 4\n",
    "        self.width = 12\n",
    "        self.action_space = spaces.Discrete(4)\n",
    "        self.observation_space = spaces.Tuple((\n",
    "            spaces.Discrete(self.height),\n",
    "            spaces.Discrete(self.width)\n",
    "        ))\n",
    "        self.moves = {\n",
    "            0: (-1, 0),  # up\n",
    "            1: (0, 1),  # right\n",
    "            2: (1, 0),  # down\n",
    "            3: (0, -1),  # left\n",
    "        }\n",
    "\n",
    "        # begin in start state\n",
    "        self.reset()\n",
    "\n",
    "    def step(self, action):\n",
    "        x, y = self.moves[action]\n",
    "        self.S = self.S[0] + x, self.S[1] + y\n",
    "\n",
    "        self.S = max(0, self.S[0]), max(0, self.S[1])\n",
    "        self.S = (min(self.S[0], self.height - 1),\n",
    "                  min(self.S[1], self.width - 1))\n",
    "\n",
    "        if self.S == (self.height - 1, self.width - 1):\n",
    "            return self.S, -1, True, {}\n",
    "        elif self.S[1] != 0 and self.S[0] == self.height - 1:\n",
    "            return self.reset(), -100, False, {}\n",
    "        return self.S, -1, False, {}\n",
    "\n",
    "    def reset(self):\n",
    "        self.S = (3, 0)\n",
    "        return self.S\n",
    "\n",
    "\n",
    "env = CliffEnv()"
   ],
   "metadata": {
    "collapsed": false
   },
   "id": "556ce0a09e9dc089"
  },
  {
   "cell_type": "markdown",
   "source": [
    "<h1> SARSA </h1>"
   ],
   "metadata": {
    "collapsed": false
   },
   "id": "ffe4e6503f10d81b"
  },
  {
   "cell_type": "code",
   "execution_count": null,
   "outputs": [],
   "source": [
    "q = np.zeros((env.height, env.width, env.action_space.n))\n",
    "epsilon = 0.1\n",
    "alpha = 0.1\n",
    "ep_lens = []\n",
    "fig = plt.figure(figsize=(20, 10))\n",
    "ax = fig.add_subplot(1, 1, 1)\n",
    "ax.set_ylim(0, 100)\n",
    "for i in range(500):\n",
    "    x, y, *_ = env.reset()\n",
    "    done = False\n",
    "    ep_len = 0\n",
    "    action = env.action_space.sample()\n",
    "    while not done:\n",
    "        (x_, y_), reward, done, *_ = env.step(action)\n",
    "        if np.random.rand() < epsilon:\n",
    "            action_ = env.action_space.sample()\n",
    "        else:\n",
    "            action_ = np.argmax(q[x_][y_])\n",
    "        ep_len += 1\n",
    "        if not done:\n",
    "            q[x][y][action] = q[x][y][action] + alpha * (reward + q[x_][y_][action_] - q[x][y][action])\n",
    "        else:\n",
    "            q[x][y][action] = q[x][y][action] + alpha * (reward - q[x][y][action])\n",
    "        x, y = x_, y_\n",
    "        action = action_\n",
    "    ep_lens.append(ep_len)\n",
    "    plt.plot(ep_lens)\n",
    "\n"
   ],
   "metadata": {
    "collapsed": false
   },
   "id": "a64010da29b63b0f"
  },
  {
   "cell_type": "code",
   "execution_count": null,
   "outputs": [],
   "source": [
    "ep_len = 0\n",
    "x, y, *_ = env.reset()\n",
    "for i in range(100):\n",
    "    action = np.argmax(q[x][y])\n",
    "    (x_, y_), reward, done, *_ = env.step(action)\n",
    "    ep_len += 1\n",
    "    x, y = x_, y_\n",
    "    if done:\n",
    "        break\n",
    "print(\"Eval ep len=\", ep_len)"
   ],
   "metadata": {
    "collapsed": false
   },
   "id": "7f31800114dc73ca"
  },
  {
   "cell_type": "markdown",
   "source": [
    "<h1> Q-learning </h1>"
   ],
   "metadata": {
    "collapsed": false
   },
   "id": "20dea461ac8486ce"
  },
  {
   "cell_type": "code",
   "execution_count": null,
   "outputs": [],
   "source": [
    "q = np.zeros((env.height, env.width, env.action_space.n))\n",
    "alpha = 0.1\n",
    "ep_lens = []\n",
    "fig = plt.figure(figsize=(20, 10))\n",
    "ax = fig.add_subplot(1, 1, 1)\n",
    "for i in range(500):\n",
    "    x, y, *_ = env.reset()\n",
    "    done = False\n",
    "    ep_len = 0\n",
    "    while not done:\n",
    "        action = env.action_space.sample()\n",
    "        (x_, y_), reward, done, *_ = env.step(action)\n",
    "        action_ = np.argmax(q[x_][y_])\n",
    "        ep_len += 1\n",
    "        if not done:\n",
    "            q[x][y][action] = q[x][y][action] + alpha * (reward + q[x_][y_][action_] - q[x][y][action])\n",
    "        else:\n",
    "            q[x][y][action] = q[x][y][action] + alpha * (reward - q[x][y][action])\n",
    "        x, y = x_, y_\n",
    "    ep_lens.append(ep_len)\n",
    "    plt.plot(ep_lens)\n",
    "\n"
   ],
   "metadata": {
    "collapsed": false
   },
   "id": "8ceb8f27e184f55a"
  },
  {
   "cell_type": "code",
   "execution_count": null,
   "outputs": [],
   "source": [
    "ep_len = 0\n",
    "x, y, *_ = env.reset()\n",
    "for i in range(100):\n",
    "    action = np.argmax(q[x][y])\n",
    "    (x_, y_), reward, done, *_ = env.step(action)\n",
    "    ep_len += 1\n",
    "    x, y = x_, y_\n",
    "    if done:\n",
    "        break\n",
    "print(\"Eval ep len=\", ep_len)"
   ],
   "metadata": {
    "collapsed": false
   },
   "id": "7e1020e8c3a538d0"
  },
  {
   "cell_type": "markdown",
   "source": [
    "<h1> Policy Gradient - REINFORCE </h1>"
   ],
   "metadata": {
    "collapsed": false
   },
   "id": "c671a5954c0dc3fe"
  },
  {
   "cell_type": "code",
   "execution_count": 137,
   "outputs": [],
   "source": [
    "class PomdpGrid:\n",
    "    def __init__(self):\n",
    "        self.s = None\n",
    "    def step(self,action):\n",
    "        match self.s:\n",
    "            case 0:\n",
    "                self.s+= action\n",
    "            case 1:\n",
    "                self.s += -1 if action == 1 else 1\n",
    "            case 2:\n",
    "                self.s+= 1 if action == 1 else -1\n",
    "        return 0 if self.s==3 else -1, self.s == 3\n",
    "    \n",
    "    def reset(self):\n",
    "        self.s = 0\n",
    "        return self.s\n",
    "            "
   ],
   "metadata": {
    "collapsed": false,
    "ExecuteTime": {
     "end_time": "2023-09-15T11:57:07.712334Z",
     "start_time": "2023-09-15T11:57:07.707316Z"
    }
   },
   "id": "4f92ac57980169c5"
  },
  {
   "cell_type": "code",
   "execution_count": 193,
   "outputs": [
    {
     "name": "stderr",
     "output_type": "stream",
     "text": [
      "100%|██████████| 1000/1000 [00:00<00:00, 3430.00it/s]\n",
      "100%|██████████| 1000/1000 [00:00<00:00, 3819.15it/s]\n",
      "100%|██████████| 1000/1000 [00:00<00:00, 4344.95it/s]\n",
      "100%|██████████| 1000/1000 [00:00<00:00, 4040.81it/s]\n",
      "100%|██████████| 1000/1000 [00:00<00:00, 4698.13it/s]\n",
      "100%|██████████| 1000/1000 [00:00<00:00, 4136.44it/s]\n",
      "100%|██████████| 1000/1000 [00:00<00:00, 3933.88it/s]\n",
      "100%|██████████| 1000/1000 [00:00<00:00, 4067.06it/s]\n",
      "100%|██████████| 1000/1000 [00:00<00:00, 3707.62it/s]\n",
      "100%|██████████| 1000/1000 [00:00<00:00, 4140.29it/s]\n",
      "100%|██████████| 1000/1000 [00:00<00:00, 3952.94it/s]\n",
      "100%|██████████| 1000/1000 [00:00<00:00, 3893.08it/s]\n",
      "100%|██████████| 1000/1000 [00:00<00:00, 4091.67it/s]\n",
      "100%|██████████| 1000/1000 [00:00<00:00, 4413.40it/s]\n",
      "100%|██████████| 1000/1000 [00:00<00:00, 3902.93it/s]\n",
      "100%|██████████| 1000/1000 [00:00<00:00, 4530.11it/s]\n",
      "100%|██████████| 1000/1000 [00:00<00:00, 3740.49it/s]\n",
      "100%|██████████| 1000/1000 [00:00<00:00, 4166.63it/s]\n",
      "100%|██████████| 1000/1000 [00:00<00:00, 4097.66it/s]\n",
      "100%|██████████| 1000/1000 [00:00<00:00, 3549.11it/s]\n",
      "100%|██████████| 1000/1000 [00:00<00:00, 4481.79it/s]\n",
      "100%|██████████| 1000/1000 [00:00<00:00, 3797.36it/s]\n",
      "100%|██████████| 1000/1000 [00:00<00:00, 3938.59it/s]\n",
      "100%|██████████| 1000/1000 [00:00<00:00, 4491.41it/s]\n",
      "100%|██████████| 1000/1000 [00:00<00:00, 3712.27it/s]\n",
      "100%|██████████| 1000/1000 [00:00<00:00, 4353.91it/s]\n",
      "100%|██████████| 1000/1000 [00:00<00:00, 4575.78it/s]\n",
      "100%|██████████| 1000/1000 [00:00<00:00, 3590.87it/s]\n",
      "100%|██████████| 1000/1000 [00:00<00:00, 4409.76it/s]\n",
      "100%|██████████| 1000/1000 [00:00<00:00, 4007.94it/s]\n",
      "100%|██████████| 1000/1000 [00:00<00:00, 3746.21it/s]\n",
      "100%|██████████| 1000/1000 [00:00<00:00, 3732.96it/s]\n",
      "100%|██████████| 1000/1000 [00:00<00:00, 4334.90it/s]\n",
      "100%|██████████| 1000/1000 [00:00<00:00, 4381.70it/s]\n",
      "100%|██████████| 1000/1000 [00:00<00:00, 3935.61it/s]\n",
      "100%|██████████| 1000/1000 [00:00<00:00, 4525.22it/s]\n",
      "100%|██████████| 1000/1000 [00:00<00:00, 3667.47it/s]\n",
      "100%|██████████| 1000/1000 [00:00<00:00, 4407.77it/s]\n",
      "100%|██████████| 1000/1000 [00:00<00:00, 4426.97it/s]\n",
      "100%|██████████| 1000/1000 [00:00<00:00, 3891.98it/s]\n",
      "100%|██████████| 1000/1000 [00:00<00:00, 4515.45it/s]\n",
      "100%|██████████| 1000/1000 [00:00<00:00, 4658.53it/s]\n",
      "100%|██████████| 1000/1000 [00:00<00:00, 4596.07it/s]\n",
      "100%|██████████| 1000/1000 [00:00<00:00, 4312.93it/s]\n",
      "100%|██████████| 1000/1000 [00:00<00:00, 3093.58it/s]\n",
      "100%|██████████| 1000/1000 [00:00<00:00, 4127.34it/s]\n",
      "100%|██████████| 1000/1000 [00:00<00:00, 3840.75it/s]\n",
      "100%|██████████| 1000/1000 [00:00<00:00, 5026.49it/s]\n",
      "100%|██████████| 1000/1000 [00:00<00:00, 4507.86it/s]\n",
      "100%|██████████| 1000/1000 [00:00<00:00, 3181.60it/s]\n",
      "100%|██████████| 1000/1000 [00:00<00:00, 3594.56it/s]\n",
      "100%|██████████| 1000/1000 [00:00<00:00, 4466.78it/s]\n",
      "100%|██████████| 1000/1000 [00:00<00:00, 3734.09it/s]\n",
      "100%|██████████| 1000/1000 [00:00<00:00, 3670.75it/s]\n",
      "100%|██████████| 1000/1000 [00:00<00:00, 3938.51it/s]\n",
      "100%|██████████| 1000/1000 [00:00<00:00, 3772.90it/s]\n",
      "100%|██████████| 1000/1000 [00:00<00:00, 4152.18it/s]\n",
      "100%|██████████| 1000/1000 [00:00<00:00, 4367.37it/s]\n",
      "100%|██████████| 1000/1000 [00:00<00:00, 3904.12it/s]\n",
      "100%|██████████| 1000/1000 [00:00<00:00, 4744.58it/s]\n",
      "100%|██████████| 1000/1000 [00:00<00:00, 4318.03it/s]\n",
      "100%|██████████| 1000/1000 [00:00<00:00, 4070.27it/s]\n",
      "100%|██████████| 1000/1000 [00:00<00:00, 4035.40it/s]\n",
      "100%|██████████| 1000/1000 [00:00<00:00, 4089.98it/s]\n",
      "100%|██████████| 1000/1000 [00:00<00:00, 3969.38it/s]\n",
      "100%|██████████| 1000/1000 [00:00<00:00, 4953.39it/s]\n",
      "100%|██████████| 1000/1000 [00:00<00:00, 4116.20it/s]\n",
      "100%|██████████| 1000/1000 [00:00<00:00, 4641.10it/s]\n",
      "100%|██████████| 1000/1000 [00:00<00:00, 3686.66it/s]\n",
      "100%|██████████| 1000/1000 [00:00<00:00, 4086.92it/s]\n",
      "100%|██████████| 1000/1000 [00:00<00:00, 4454.12it/s]\n",
      "100%|██████████| 1000/1000 [00:00<00:00, 4047.20it/s]\n",
      "100%|██████████| 1000/1000 [00:00<00:00, 3854.96it/s]\n",
      "100%|██████████| 1000/1000 [00:00<00:00, 4028.82it/s]\n",
      "100%|██████████| 1000/1000 [00:00<00:00, 3811.11it/s]\n",
      "100%|██████████| 1000/1000 [00:00<00:00, 3820.18it/s]\n",
      "100%|██████████| 1000/1000 [00:00<00:00, 3925.97it/s]\n",
      "100%|██████████| 1000/1000 [00:00<00:00, 3732.47it/s]\n",
      "100%|██████████| 1000/1000 [00:00<00:00, 3986.52it/s]\n",
      "100%|██████████| 1000/1000 [00:00<00:00, 3935.92it/s]\n",
      "100%|██████████| 1000/1000 [00:00<00:00, 3828.09it/s]\n",
      "100%|██████████| 1000/1000 [00:00<00:00, 3700.66it/s]\n",
      "100%|██████████| 1000/1000 [00:00<00:00, 3868.94it/s]\n",
      "100%|██████████| 1000/1000 [00:00<00:00, 4083.92it/s]\n",
      "100%|██████████| 1000/1000 [00:00<00:00, 3954.61it/s]\n",
      "100%|██████████| 1000/1000 [00:00<00:00, 4344.94it/s]\n",
      "100%|██████████| 1000/1000 [00:00<00:00, 3359.78it/s]\n",
      "100%|██████████| 1000/1000 [00:00<00:00, 4228.77it/s]\n",
      "100%|██████████| 1000/1000 [00:00<00:00, 3948.09it/s]\n",
      "100%|██████████| 1000/1000 [00:00<00:00, 4536.58it/s]\n",
      "100%|██████████| 1000/1000 [00:00<00:00, 4467.76it/s]\n",
      "100%|██████████| 1000/1000 [00:00<00:00, 3998.83it/s]\n",
      "100%|██████████| 1000/1000 [00:00<00:00, 4439.44it/s]\n",
      "100%|██████████| 1000/1000 [00:00<00:00, 4355.21it/s]\n",
      "100%|██████████| 1000/1000 [00:00<00:00, 4289.34it/s]\n",
      "100%|██████████| 1000/1000 [00:00<00:00, 4162.45it/s]\n",
      "100%|██████████| 1000/1000 [00:00<00:00, 3437.20it/s]\n",
      "100%|██████████| 1000/1000 [00:00<00:00, 4110.72it/s]\n",
      "100%|██████████| 1000/1000 [00:00<00:00, 3652.97it/s]\n",
      "100%|██████████| 1000/1000 [00:00<00:00, 3366.61it/s]\n"
     ]
    }
   ],
   "source": [
    "np.random.seed(10)\n",
    "NUM_TRIALS = 100\n",
    "NUM_EPISODES = 1000 \n",
    "env = PomdpGrid()\n",
    "ALPHA = 2e-4\n",
    "returns = np.zeros(shape=(NUM_TRIALS,NUM_EPISODES))\n",
    "x = np.array([[0,1],[1,0]])\n",
    "def pmf():\n",
    "    h = np.dot(theta, x)\n",
    "    t = np.exp(h - np.max(h))\n",
    "    p = t / np.sum(t)\n",
    "    imin = np.argmin(p)\n",
    "    epsilon = 0.05\n",
    "    if p[imin] < epsilon:\n",
    "        p[:] = 1 - epsilon\n",
    "        p[imin] = epsilon\n",
    "    return p\n",
    "\n",
    "\n",
    "for j in range(NUM_TRIALS):\n",
    "    rewards = []\n",
    "    theta = np.array([-1.47,1.47])\n",
    "    for i in tqdm(range(NUM_EPISODES)):\n",
    "        env.reset()\n",
    "        experiences = []\n",
    "        ret = 0\n",
    "        while True:\n",
    "            action = 1 if np.random.uniform() <= pmf()[1] else 0\n",
    "            reward,terminated = env.step(action)\n",
    "            experiences.append((action,reward))\n",
    "            ret+=reward\n",
    "            if terminated:\n",
    "                break\n",
    "        rewards.append(ret)\n",
    "        #print(\"\\rP(right)=\",pmf(1),\"theta0=\",theta0,\"theta1=\",theta1,\"ret=\",ret,end=\"\")\n",
    "        for experience in experiences:\n",
    "            action = experience[0]\n",
    "            grad = x[:,action] - np.dot(x,pmf())\n",
    "            theta+= ALPHA*ret*grad\n",
    "            ret-=experience[1]\n",
    "    returns[j,:] = rewards\n",
    "        "
   ],
   "metadata": {
    "collapsed": false,
    "ExecuteTime": {
     "end_time": "2023-09-15T12:38:14.831674Z",
     "start_time": "2023-09-15T12:37:49.968109Z"
    }
   },
   "id": "b69dc6a18c5e9be7"
  },
  {
   "cell_type": "code",
   "execution_count": 203,
   "outputs": [
    {
     "data": {
      "text/plain": "<Figure size 640x480 with 1 Axes>",
      "image/png": "[encoded data removed]"
     },
     "metadata": {},
     "output_type": "display_data"
    }
   ],
   "source": [
    "plt.plot(np.arange(NUM_EPISODES)+1,np.mean(returns,0),label=\"2e-4\")\n",
    "plt.legend(loc=\"lower right\")\n",
    "plt.ylabel('total reward on episode')\n",
    "plt.xlabel('episode');"
   ],
   "metadata": {
    "collapsed": false,
    "ExecuteTime": {
     "end_time": "2023-09-15T12:45:46.330334Z",
     "start_time": "2023-09-15T12:45:46.264044Z"
    }
   },
   "id": "1fc32402e733b487"
  },
  {
   "cell_type": "code",
   "execution_count": 207,
   "outputs": [
    {
     "data": {
      "text/plain": "<Figure size 640x480 with 1 Axes>",
      "image/png": "[encoded data removed]"
     },
     "metadata": {},
     "output_type": "display_data"
    }
   ],
   "source": [
    "plt.plot(returns[0],label=\"First trial\",color=\"red\")\n",
    "plt.legend(loc=\"lower right\")\n",
    "plt.ylabel('total reward on episode')\n",
    "plt.xlabel('episode');"
   ],
   "metadata": {
    "collapsed": false,
    "ExecuteTime": {
     "end_time": "2023-09-15T12:46:14.765387Z",
     "start_time": "2023-09-15T12:46:14.705199Z"
    }
   },
   "id": "34e7ba1b683c86e2"
  },
  {
   "cell_type": "code",
   "execution_count": null,
   "outputs": [],
   "source": [],
   "metadata": {
    "collapsed": false
   },
   "id": "efce4b53806fe13e"
  }
 ],
 "metadata": {
  "kernelspec": {
   "display_name": "Python 3",
   "language": "python",
   "name": "python3"
  },
  "language_info": {
   "codemirror_mode": {
    "name": "ipython",
    "version": 2
   },
   "file_extension": ".py",
   "mimetype": "text/x-python",
   "name": "python",
   "nbconvert_exporter": "python",
   "pygments_lexer": "ipython2",
   "version": "2.7.6"
  }
 },
 "nbformat": 4,
 "nbformat_minor": 5
}
